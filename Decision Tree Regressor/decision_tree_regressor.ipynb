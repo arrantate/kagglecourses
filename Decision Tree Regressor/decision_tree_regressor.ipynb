{
 "metadata": {
  "language_info": {
   "codemirror_mode": {
    "name": "ipython",
    "version": 3
   },
   "file_extension": ".py",
   "mimetype": "text/x-python",
   "name": "python",
   "nbconvert_exporter": "python",
   "pygments_lexer": "ipython3",
   "version": "3.8.2-final"
  },
  "orig_nbformat": 2,
  "kernelspec": {
   "name": "python38264bit0d705a8a21f64ac491b714e7c7235dc6",
   "display_name": "Python 3.8.2 64-bit"
  }
 },
 "nbformat": 4,
 "nbformat_minor": 2,
 "cells": [
  {
   "cell_type": "code",
   "execution_count": 1,
   "metadata": {
    "tags": []
   },
   "outputs": [
    {
     "output_type": "stream",
     "name": "stdout",
     "text": "First in-sample predictions         : [208500. 181500. 223500. 140000. 250000.]\nActual target values for those homes: [208500, 181500, 223500, 140000, 250000]\n"
    }
   ],
   "source": [
    "# Importing dependencies and data\n",
    "import pandas as pd\n",
    "from sklearn.tree import DecisionTreeRegressor\n",
    "\n",
    "path_to_data = 'house_prices.csv'\n",
    "data = pd.read_csv(path_to_data)\n",
    "\n",
    "# Assign Prediction target and Training Set to variables (view column headers with data.columns)\n",
    "y = data.SalePrice\n",
    "\n",
    "features = [\"LotArea\", \"YearBuilt\", \"1stFlrSF\", \"2ndFlrSF\", \"FullBath\", \"BedroomAbvGr\", \"TotRmsAbvGrd\"]\n",
    "X = data[features]\n",
    "\n",
    "# Specify Model\n",
    "house_price_model = DecisionTreeRegressor(random_state=1)\n",
    "{}\n",
    "# Fit the Model\n",
    "house_price_model.fit(X, y)\n",
    "\n",
    "print(f'First in-sample predictions         : {house_price_model.predict(X.head())}')\n",
    "print(f'Actual target values for those homes: {y.head().tolist()}')"
   ]
  },
  {
   "cell_type": "code",
   "execution_count": 2,
   "metadata": {
    "tags": []
   },
   "outputs": [
    {
     "output_type": "stream",
     "name": "stdout",
     "text": "Validation data predictions         : [186500. 184000. 130000.  92000. 164500.]\nActual target values for those homes: [231500, 179500, 122000, 84500, 142000]\n"
    }
   ],
   "source": [
    "##### Evaluating the model #####\n",
    "# Split the set into training data and validation data\n",
    "from sklearn.model_selection import train_test_split\n",
    "train_X, val_X, train_y, val_y = train_test_split(X, y, random_state=1)\n",
    "\n",
    "# Fit the Model\n",
    "house_price_model.fit(train_X, train_y)\n",
    "\n",
    "# Get predicted prices on validation data\n",
    "print(f'Validation data predictions         : {house_price_model.predict(val_X.head())}')\n",
    "print(f'Actual target values for those homes: {val_y.head().tolist()}')"
   ]
  },
  {
   "cell_type": "code",
   "execution_count": 3,
   "metadata": {
    "tags": []
   },
   "outputs": [
    {
     "output_type": "stream",
     "name": "stdout",
     "text": "29652.931506849316\n"
    }
   ],
   "source": [
    "# Calculate the mean absolute error\n",
    "from sklearn.metrics import mean_absolute_error\n",
    "\n",
    "validation_predictions = house_price_model.predict(val_X)\n",
    "print(mean_absolute_error(val_y, validation_predictions))"
   ]
  },
  {
   "cell_type": "code",
   "execution_count": 4,
   "metadata": {},
   "outputs": [],
   "source": [
    "##### Underfitting / Overfitting #####\n",
    "# Creating a function to compare MAE scores for models with different values max_leaf_nodes\n",
    "def get_mae(max_leaf_nodes, train_X, train_y, val_X, val_y):\n",
    "    house_price_model = DecisionTreeRegressor(max_leaf_nodes=max_leaf_nodes, random_state=1)\n",
    "    house_price_model.fit(train_X, train_y)\n",
    "    validation_predictions = house_price_model.predict(val_X)\n",
    "    mae = mean_absolute_error(val_y, validation_predictions)\n",
    "    return mae"
   ]
  },
  {
   "cell_type": "code",
   "execution_count": 5,
   "metadata": {
    "tags": []
   },
   "outputs": [
    {
     "output_type": "stream",
     "name": "stdout",
     "text": "5 max leaf nodes returns an MAE of 35044.51299744237\n25 max leaf nodes returns an MAE of 29016.41319191076\n50 max leaf nodes returns an MAE of 27405.930473214907\n75 max leaf nodes returns an MAE of 27114.12284949469\n100 max leaf nodes returns an MAE of 27282.50803885739\n"
    }
   ],
   "source": [
    "# Using the function on different values of max_leaf_nodes\n",
    "max_leaf_nodes_to_test = [5, 25, 50, 75, 100]\n",
    "for i in max_leaf_nodes_to_test:\n",
    "    mae = get_mae(i, train_X, train_y, val_X, val_y)\n",
    "    print(f'{i} max leaf nodes returns an MAE of {mae}')\n"
   ]
  },
  {
   "cell_type": "code",
   "execution_count": 6,
   "metadata": {
    "tags": []
   },
   "outputs": [
    {
     "output_type": "stream",
     "name": "stdout",
     "text": "75 max leaf nodes returns an MAE of 27114.12284949469\n"
    }
   ],
   "source": [
    "# Automate the above to return a dictionary using dict comprehension\n",
    "scores = {nodes: get_mae(nodes, train_X, train_y, val_X, val_y) for nodes in max_leaf_nodes_to_test}\n",
    "\n",
    "# Now find the number of nodes with the lowest MAE\n",
    "best_tree_size = min(scores, key=scores.get)\n",
    "print(f'{best_tree_size} max leaf nodes returns an MAE of {scores[best_tree_size]}')"
   ]
  },
  {
   "cell_type": "code",
   "execution_count": 7,
   "metadata": {},
   "outputs": [
    {
     "output_type": "execute_result",
     "data": {
      "text/plain": "DecisionTreeRegressor(max_leaf_nodes=75, random_state=1)"
     },
     "metadata": {},
     "execution_count": 7
    }
   ],
   "source": [
    "# Apply to a final model and fit it to the full set of data\n",
    "final_model = DecisionTreeRegressor(max_leaf_nodes=best_tree_size, random_state=1)\n",
    "final_model.fit(X, y)"
   ]
  },
  {
   "cell_type": "markdown",
   "metadata": {},
   "source": [
    "# Below is a single code section which shows the whole process together"
   ]
  },
  {
   "cell_type": "code",
   "execution_count": 8,
   "metadata": {
    "tags": []
   },
   "outputs": [
    {
     "output_type": "stream",
     "name": "stdout",
     "text": "75 max leaf nodes returns an MAE of 27114.12284949469\n"
    },
    {
     "output_type": "execute_result",
     "data": {
      "text/plain": "DecisionTreeRegressor(max_leaf_nodes=75, random_state=0)"
     },
     "metadata": {},
     "execution_count": 8
    }
   ],
   "source": [
    "import pandas as pd\n",
    "from sklearn.tree import DecisionTreeRegressor\n",
    "from sklearn.model_selection import train_test_split\n",
    "from sklearn.metrics import mean_absolute_error\n",
    "\n",
    "path_to_data = 'house_prices.csv'\n",
    "data = pd.read_csv(path_to_data)\n",
    "\n",
    "features = [\"LotArea\", \"YearBuilt\", \"1stFlrSF\", \"2ndFlrSF\", \"FullBath\", \"BedroomAbvGr\", \"TotRmsAbvGrd\"]\n",
    "X = data[features]\n",
    "y = data.SalePrice\n",
    "\n",
    "train_X, val_X, train_y, val_y = train_test_split(X, y, random_state=1)\n",
    "\n",
    "def get_mae(max_leaf_nodes, train_X, train_y, val_X, val_y):\n",
    "    house_price_model = DecisionTreeRegressor(max_leaf_nodes=max_leaf_nodes, random_state=0)\n",
    "    house_price_model.fit(train_X, train_y)\n",
    "    validation_predictions = house_price_model.predict(val_X)\n",
    "    mae = mean_absolute_error(val_y, validation_predictions)\n",
    "    return mae\n",
    "\n",
    "max_leaf_nodes_to_test = [5, 25, 50, 75, 100]\n",
    "scores = {nodes: get_mae(nodes, train_X, train_y, val_X, val_y) for nodes in max_leaf_nodes_to_test}\n",
    "best_tree_size = min(scores, key=scores.get)\n",
    "print(f'{best_tree_size} max leaf nodes returns an MAE of {scores[best_tree_size]}')\n",
    "\n",
    "final_model = DecisionTreeRegressor(max_leaf_nodes=best_tree_size, random_state=0)\n",
    "final_model.fit(X, y)\n"
   ]
  }
 ]
}